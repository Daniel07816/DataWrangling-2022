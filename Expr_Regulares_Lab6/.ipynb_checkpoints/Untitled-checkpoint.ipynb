{
 "cells": [
  {
   "cell_type": "code",
   "execution_count": 1,
   "id": "a835c68b",
   "metadata": {},
   "outputs": [],
   "source": [
    "import re"
   ]
  },
  {
   "cell_type": "code",
   "execution_count": null,
   "id": "4e40f9c8",
   "metadata": {},
   "outputs": [],
   "source": [
    "#1.Genere una expresión regular que sea capaz de detectar las placas de un vehículo particular guatemalteco.\n",
    "# P123SAM, Q455RYD, P234TRG, P9822UYS, P09'WSA"
   ]
  },
  {
   "cell_type": "code",
   "execution_count": 35,
   "id": "e3f4e564",
   "metadata": {},
   "outputs": [
    {
     "data": {
      "text/plain": [
       "['P123SRM', 'P234TRG']"
      ]
     },
     "execution_count": 35,
     "metadata": {},
     "output_type": "execute_result"
    }
   ],
   "source": [
    "string_1 = \"P123SRM, Q455RYD, P234TRG, P9822UYS, P09'WSA\"\n",
    "pattern_dot = r\"\\bP[0-9]{3}[B|C|D|F|G|H|J|K|L|M|N|P|Q|R|S|T|V|X|Z|W|Y]{3}\\b\"\n",
    "re.findall(pattern_dot,string_1)"
   ]
  },
  {
   "cell_type": "code",
   "execution_count": null,
   "id": "4f1ac681",
   "metadata": {},
   "outputs": [],
   "source": [
    "#2.Genere una expresión regular que valide si un archivo es de tipo .pdf o jpg.\n",
    "# Ejemplo1.pdf, prueba2.PDF, respuestas_del_examen.jpg, amor.JPG"
   ]
  },
  {
   "cell_type": "code",
   "execution_count": 36,
   "id": "cde604e0",
   "metadata": {},
   "outputs": [
    {
     "data": {
      "text/plain": [
       "['Ejemplo1.pdf', 'prueba2.PDF', 'examen.jpg', 'amor.JPG']"
      ]
     },
     "execution_count": 36,
     "metadata": {},
     "output_type": "execute_result"
    }
   ],
   "source": [
    "string_1 = \"Ejemplo1.pdf, prueba2.PDF, respuestas_del_examen.jpg, amor.JPG, test.pd\"\n",
    "string_2 = \"Ejemplo1.pdf\"\n",
    "pattern_dot = r\"([A-Za-z0-9]+\\.jpg|[A-Za-z0-9]+\\.pdf|[A-Za-z0-9]+\\.PDF|[A-Za-z0-9]+\\.JPG)\"\n",
    "re.findall(pattern_dot,string_1)"
   ]
  },
  {
   "cell_type": "code",
   "execution_count": null,
   "id": "118a1299",
   "metadata": {},
   "outputs": [],
   "source": [
    "# 3.Genere una expresión regular para validar contraseñas de correo. \n",
    "# Una contraseña de correo debe contener por lo menos 8 caracteres, una letra mayúscula y un carácter especial."
   ]
  },
  {
   "cell_type": "code",
   "execution_count": 16,
   "id": "20fef5dc",
   "metadata": {},
   "outputs": [],
   "source": [
    "string_1 = \"d4ni3l_B\"\n",
    "string_2 = \"EXSRDCFTVG\"\n",
    "pattern_dot = r\"^\" + \"(?=.*[@#$%&_])\" +\"(?=.*[A-Z])\" +\"(?=\\\\S+$)\"+ \".{8,}\" + \"$\"\n",
    "re.findall(pattern_dot,string_1)"
   ]
  },
  {
   "cell_type": "code",
   "execution_count": null,
   "id": "2c5f848d",
   "metadata": {},
   "outputs": [],
   "source": [
    "#4.Cree una expresión regular para validar un numero de carnet de la Universidad Galileo,\n",
    "# por ejemplo 19002324 donde los primeros dos dígitos representan el año en el que el alumno\n",
    "# se inscribió los cuales pueden variar desde el 01 (año 2001) hasta el 30 (año 2030). \n",
    "# Los siguientes dos dígitos son cero (00) los cuales van por default y los últimos cuatro dígitos \n",
    "# son un número que va desde el 1110 hasta el 8970. Para dar su respuesta utilice la notación de \n",
    "# expresiones regulares."
   ]
  },
  {
   "cell_type": "code",
   "execution_count": 37,
   "id": "a61a070f",
   "metadata": {},
   "outputs": [
    {
     "data": {
      "text/plain": [
       "[('22006438', '22', '00', '6438')]"
      ]
     },
     "execution_count": 37,
     "metadata": {},
     "output_type": "execute_result"
    }
   ],
   "source": [
    "string_1 = \"22006438\"\n",
    "pattern_dot = r\"((0[1-9]|[1-2][0-9]|30)(00)(1[1-9][1-9][0-9]|[2-7][0-9]{3}|[8][0-9][0-7][0]))\"\n",
    "re.findall(pattern_dot,string_1)"
   ]
  },
  {
   "cell_type": "code",
   "execution_count": null,
   "id": "22ea44b2",
   "metadata": {},
   "outputs": [],
   "source": [
    "# 5.Cree una expresión regular que encuentre todas las palabras de la primera línea, pero ninguna de la segunda.\n",
    "\n",
    "#a.pit, spot, spate, slap two, respite\n",
    "#b.pt,Pot,peat,part"
   ]
  },
  {
   "cell_type": "code",
   "execution_count": 30,
   "id": "a61a10f8",
   "metadata": {},
   "outputs": [],
   "source": [
    "string_1 = \"respite Pot\"\n",
    "pattern_dot = r\"pit|spot|spate|slap|two|respite\"\n",
    "re.findall(pattern_dot,string_1)"
   ]
  },
  {
   "cell_type": "code",
   "execution_count": null,
   "id": "94da8085",
   "metadata": {},
   "outputs": [],
   "source": [
    "#6.Cree una expresión regular para obtener los números telefónicos de Guatemala. \n",
    "# Estos pueden contener al inicio +502 o 502, pueden estar separados por un espacio en\n",
    "# blanco o un guión o juntos. Notar que los números telefónicos pueden empezar únicamente con 4,5,6 o 2.\n",
    "\n",
    "# a.+50254821151, 4210-7640, 52018150, 2434 6854, 11234569, 50211234578"
   ]
  },
  {
   "cell_type": "code",
   "execution_count": 34,
   "id": "8b32e816",
   "metadata": {},
   "outputs": [
    {
     "data": {
      "text/plain": [
       "[('+50254821151', '+502', '5482', '5', '', '1151'),\n",
       " ('4210-7640', '', '4210', '4', '-', '7640'),\n",
       " ('52018150', '', '5201', '5', '', '8150'),\n",
       " ('2434 6854', '', '2434', '2', ' ', '6854'),\n",
       " ('50211234', '', '5021', '5', '', '1234')]"
      ]
     },
     "execution_count": 34,
     "metadata": {},
     "output_type": "execute_result"
    }
   ],
   "source": [
    "string_1 = \"+50254821151, 4210-7640, 52018150, 2434 6854, 11234569, 50211234578\"\n",
    "pattern_dot = r\"((\\+502|502|)((4|5|6|2)\\d{3})(\\s|-|)(\\d{4}))\"\n",
    "re.findall(pattern_dot,string_1)"
   ]
  },
  {
   "cell_type": "code",
   "execution_count": null,
   "id": "642869a5",
   "metadata": {},
   "outputs": [],
   "source": [
    "# 7.Genere una expresión regular que sea capaz de obtener correos de la UFM.\n",
    "#Los nombres de usuario no pueden contener signos \"&\", signos igual (=), guiones bajos (_), \n",
    "#apóstrofos ('), guiones (-), signos más (+), comas (,), corchetes angulare"
   ]
  },
  {
   "cell_type": "code",
   "execution_count": 38,
   "id": "73c243e4",
   "metadata": {},
   "outputs": [
    {
     "data": {
      "text/plain": [
       "[('danielbehar@ufm.edu', 'danielbehar', '@', 'ufm', '.', 'edu')]"
      ]
     },
     "execution_count": 38,
     "metadata": {},
     "output_type": "execute_result"
    }
   ],
   "source": [
    "string_1 = \"danielbehar@ufm.edu, danielbeharaldana@gmail.com\"\n",
    "pattern_dot = r\"\\b((^[^@&=,%+<>\\.]+)(@)(ufm)(\\.)(edu))\\b\"\n",
    "re.findall(pattern_dot,string_1)"
   ]
  },
  {
   "cell_type": "code",
   "execution_count": null,
   "id": "570500c0",
   "metadata": {},
   "outputs": [],
   "source": [
    "# 8.En el mundo distópico de Eurasia, Big Brother le asigna un identificador único a cada ciudadano. \n",
    "#Genere una expresión regular que valide las identificaciones. Composición del id:\n",
    "# a.\tEl id inicia con 0 a 3 letras minúsculas (puede tener 0 letras minúsculas hasta tres letras minúsculas)\n",
    "\n",
    "# b.\tLuego es seguido por una cadena de dígitos que puede ser de 2 a 9 dígitos respectivamente.\n",
    "# c.\tInmediatamente después de la cadena de dígitos, se encuentra por lo menos tres letras mayúsculas.\n",
    "# d.\tEj: abc012333ABCDEEEE\n",
    "\n",
    "string_1 = \"abc012333ABCDEEEE\"\n",
    "pattern_dot = r\"^\" + \"(?=[a-z]){0,3}\" + \"(?=.*[0-9]){2,9}\" +\"(?=..+[A-Z]){3,}\" +\"(?=\\\\S+$)\"+ \".{0,}\" + \"$\"\n",
    "re.findall(pattern_dot,string_1)"
   ]
  }
 ],
 "metadata": {
  "kernelspec": {
   "display_name": "Python 3 (ipykernel)",
   "language": "python",
   "name": "python3"
  },
  "language_info": {
   "codemirror_mode": {
    "name": "ipython",
    "version": 3
   },
   "file_extension": ".py",
   "mimetype": "text/x-python",
   "name": "python",
   "nbconvert_exporter": "python",
   "pygments_lexer": "ipython3",
   "version": "3.7.13"
  }
 },
 "nbformat": 4,
 "nbformat_minor": 5
}
