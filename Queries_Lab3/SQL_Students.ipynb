{
 "cells": [
  {
   "cell_type": "markdown",
   "metadata": {},
   "source": [
    "### Daniel Behar Aldana, 20200402\n",
    "### LAB 3"
   ]
  },
  {
   "cell_type": "code",
   "execution_count": 24,
   "metadata": {},
   "outputs": [],
   "source": [
    "import pandas as pd"
   ]
  },
  {
   "cell_type": "code",
   "execution_count": 25,
   "metadata": {},
   "outputs": [],
   "source": [
    "import mysql.connector\n",
    "from mysql.connector import Error\n",
    "\n",
    "def create_connection(host_name, user_name, user_password):\n",
    "    connection = None\n",
    "    try:\n",
    "        connection = mysql.connector.connect(\n",
    "            host=host_name,\n",
    "            user=user_name,\n",
    "            passwd=user_password\n",
    "        )\n",
    "        print(\"Connection to MySQL DB successful\")\n",
    "    except Error as e:\n",
    "        print(f\"The error '{e}' occurred\")\n",
    "\n",
    "    return connection"
   ]
  },
  {
   "cell_type": "code",
   "execution_count": 26,
   "metadata": {},
   "outputs": [
    {
     "name": "stdout",
     "output_type": "stream",
     "text": [
      "Connection to MySQL DB successful\n"
     ]
    }
   ],
   "source": [
    "host = \"relational.fit.cvut.cz\"\n",
    "user = \"guest\"\n",
    "pwd = \"relational\"\n",
    "connection = create_connection(host_name = host, user_name =user ,user_password = pwd)"
   ]
  },
  {
   "cell_type": "markdown",
   "metadata": {},
   "source": [
    "### Parte 1: Preguntas generales de SQL:"
   ]
  },
  {
   "cell_type": "code",
   "execution_count": 27,
   "metadata": {},
   "outputs": [],
   "source": [
    "# 1.Obtener el nombre, apellido, salario, título y vigencia del mismo para el empleado 12557. \n",
    "# Su resultado se debe de ver de la siguiente manera:"
   ]
  },
  {
   "cell_type": "code",
   "execution_count": 28,
   "metadata": {},
   "outputs": [
    {
     "data": {
      "text/html": [
       "<div>\n",
       "<style scoped>\n",
       "    .dataframe tbody tr th:only-of-type {\n",
       "        vertical-align: middle;\n",
       "    }\n",
       "\n",
       "    .dataframe tbody tr th {\n",
       "        vertical-align: top;\n",
       "    }\n",
       "\n",
       "    .dataframe thead th {\n",
       "        text-align: right;\n",
       "    }\n",
       "</style>\n",
       "<table border=\"1\" class=\"dataframe\">\n",
       "  <thead>\n",
       "    <tr style=\"text-align: right;\">\n",
       "      <th></th>\n",
       "      <th>first_name</th>\n",
       "      <th>last_name</th>\n",
       "      <th>emp_no</th>\n",
       "      <th>title</th>\n",
       "      <th>from_date</th>\n",
       "      <th>to_date</th>\n",
       "      <th>salary</th>\n",
       "    </tr>\n",
       "  </thead>\n",
       "  <tbody>\n",
       "    <tr>\n",
       "      <th>0</th>\n",
       "      <td>Stafford</td>\n",
       "      <td>Kopetz</td>\n",
       "      <td>12557</td>\n",
       "      <td>Senior Engineer</td>\n",
       "      <td>1988-03-20</td>\n",
       "      <td>1989-03-20</td>\n",
       "      <td>41840</td>\n",
       "    </tr>\n",
       "    <tr>\n",
       "      <th>1</th>\n",
       "      <td>Stafford</td>\n",
       "      <td>Kopetz</td>\n",
       "      <td>12557</td>\n",
       "      <td>Senior Engineer</td>\n",
       "      <td>1989-03-20</td>\n",
       "      <td>1990-03-20</td>\n",
       "      <td>46021</td>\n",
       "    </tr>\n",
       "    <tr>\n",
       "      <th>2</th>\n",
       "      <td>Stafford</td>\n",
       "      <td>Kopetz</td>\n",
       "      <td>12557</td>\n",
       "      <td>Senior Engineer</td>\n",
       "      <td>1990-03-20</td>\n",
       "      <td>1991-03-20</td>\n",
       "      <td>48699</td>\n",
       "    </tr>\n",
       "    <tr>\n",
       "      <th>3</th>\n",
       "      <td>Stafford</td>\n",
       "      <td>Kopetz</td>\n",
       "      <td>12557</td>\n",
       "      <td>Senior Engineer</td>\n",
       "      <td>1991-03-20</td>\n",
       "      <td>1992-03-19</td>\n",
       "      <td>51610</td>\n",
       "    </tr>\n",
       "    <tr>\n",
       "      <th>4</th>\n",
       "      <td>Stafford</td>\n",
       "      <td>Kopetz</td>\n",
       "      <td>12557</td>\n",
       "      <td>Senior Engineer</td>\n",
       "      <td>1992-03-19</td>\n",
       "      <td>1993-03-19</td>\n",
       "      <td>51351</td>\n",
       "    </tr>\n",
       "    <tr>\n",
       "      <th>5</th>\n",
       "      <td>Stafford</td>\n",
       "      <td>Kopetz</td>\n",
       "      <td>12557</td>\n",
       "      <td>Senior Engineer</td>\n",
       "      <td>1993-03-19</td>\n",
       "      <td>1994-03-19</td>\n",
       "      <td>51660</td>\n",
       "    </tr>\n",
       "    <tr>\n",
       "      <th>6</th>\n",
       "      <td>Stafford</td>\n",
       "      <td>Kopetz</td>\n",
       "      <td>12557</td>\n",
       "      <td>Senior Engineer</td>\n",
       "      <td>1994-03-19</td>\n",
       "      <td>1995-03-19</td>\n",
       "      <td>52878</td>\n",
       "    </tr>\n",
       "    <tr>\n",
       "      <th>7</th>\n",
       "      <td>Stafford</td>\n",
       "      <td>Kopetz</td>\n",
       "      <td>12557</td>\n",
       "      <td>Senior Engineer</td>\n",
       "      <td>1995-03-19</td>\n",
       "      <td>1996-03-18</td>\n",
       "      <td>54053</td>\n",
       "    </tr>\n",
       "    <tr>\n",
       "      <th>8</th>\n",
       "      <td>Stafford</td>\n",
       "      <td>Kopetz</td>\n",
       "      <td>12557</td>\n",
       "      <td>Senior Engineer</td>\n",
       "      <td>1996-03-18</td>\n",
       "      <td>1997-03-18</td>\n",
       "      <td>57950</td>\n",
       "    </tr>\n",
       "    <tr>\n",
       "      <th>9</th>\n",
       "      <td>Stafford</td>\n",
       "      <td>Kopetz</td>\n",
       "      <td>12557</td>\n",
       "      <td>Senior Engineer</td>\n",
       "      <td>1997-03-18</td>\n",
       "      <td>1998-03-18</td>\n",
       "      <td>58055</td>\n",
       "    </tr>\n",
       "    <tr>\n",
       "      <th>10</th>\n",
       "      <td>Stafford</td>\n",
       "      <td>Kopetz</td>\n",
       "      <td>12557</td>\n",
       "      <td>Senior Engineer</td>\n",
       "      <td>1998-03-18</td>\n",
       "      <td>1999-03-18</td>\n",
       "      <td>58863</td>\n",
       "    </tr>\n",
       "    <tr>\n",
       "      <th>11</th>\n",
       "      <td>Stafford</td>\n",
       "      <td>Kopetz</td>\n",
       "      <td>12557</td>\n",
       "      <td>Senior Engineer</td>\n",
       "      <td>1999-03-18</td>\n",
       "      <td>2000-03-17</td>\n",
       "      <td>60447</td>\n",
       "    </tr>\n",
       "    <tr>\n",
       "      <th>12</th>\n",
       "      <td>Stafford</td>\n",
       "      <td>Kopetz</td>\n",
       "      <td>12557</td>\n",
       "      <td>Senior Engineer</td>\n",
       "      <td>2000-03-17</td>\n",
       "      <td>2001-03-17</td>\n",
       "      <td>60959</td>\n",
       "    </tr>\n",
       "    <tr>\n",
       "      <th>13</th>\n",
       "      <td>Stafford</td>\n",
       "      <td>Kopetz</td>\n",
       "      <td>12557</td>\n",
       "      <td>Senior Engineer</td>\n",
       "      <td>2001-03-17</td>\n",
       "      <td>2002-03-17</td>\n",
       "      <td>62951</td>\n",
       "    </tr>\n",
       "    <tr>\n",
       "      <th>14</th>\n",
       "      <td>Stafford</td>\n",
       "      <td>Kopetz</td>\n",
       "      <td>12557</td>\n",
       "      <td>Senior Engineer</td>\n",
       "      <td>2002-03-17</td>\n",
       "      <td>9999-01-01</td>\n",
       "      <td>64554</td>\n",
       "    </tr>\n",
       "  </tbody>\n",
       "</table>\n",
       "</div>"
      ],
      "text/plain": [
       "   first_name last_name  emp_no            title   from_date     to_date  \\\n",
       "0    Stafford    Kopetz   12557  Senior Engineer  1988-03-20  1989-03-20   \n",
       "1    Stafford    Kopetz   12557  Senior Engineer  1989-03-20  1990-03-20   \n",
       "2    Stafford    Kopetz   12557  Senior Engineer  1990-03-20  1991-03-20   \n",
       "3    Stafford    Kopetz   12557  Senior Engineer  1991-03-20  1992-03-19   \n",
       "4    Stafford    Kopetz   12557  Senior Engineer  1992-03-19  1993-03-19   \n",
       "5    Stafford    Kopetz   12557  Senior Engineer  1993-03-19  1994-03-19   \n",
       "6    Stafford    Kopetz   12557  Senior Engineer  1994-03-19  1995-03-19   \n",
       "7    Stafford    Kopetz   12557  Senior Engineer  1995-03-19  1996-03-18   \n",
       "8    Stafford    Kopetz   12557  Senior Engineer  1996-03-18  1997-03-18   \n",
       "9    Stafford    Kopetz   12557  Senior Engineer  1997-03-18  1998-03-18   \n",
       "10   Stafford    Kopetz   12557  Senior Engineer  1998-03-18  1999-03-18   \n",
       "11   Stafford    Kopetz   12557  Senior Engineer  1999-03-18  2000-03-17   \n",
       "12   Stafford    Kopetz   12557  Senior Engineer  2000-03-17  2001-03-17   \n",
       "13   Stafford    Kopetz   12557  Senior Engineer  2001-03-17  2002-03-17   \n",
       "14   Stafford    Kopetz   12557  Senior Engineer  2002-03-17  9999-01-01   \n",
       "\n",
       "    salary  \n",
       "0    41840  \n",
       "1    46021  \n",
       "2    48699  \n",
       "3    51610  \n",
       "4    51351  \n",
       "5    51660  \n",
       "6    52878  \n",
       "7    54053  \n",
       "8    57950  \n",
       "9    58055  \n",
       "10   58863  \n",
       "11   60447  \n",
       "12   60959  \n",
       "13   62951  \n",
       "14   64554  "
      ]
     },
     "execution_count": 28,
     "metadata": {},
     "output_type": "execute_result"
    }
   ],
   "source": [
    "query1 = \"\"\"\n",
    "SELECT e.first_name, e.last_name, e.emp_no, t.title, s.from_date, s.to_date, s.salary\n",
    "FROM employee.employees e\n",
    "JOIN employee.titles t ON e.emp_no = t.emp_no\n",
    "JOIN employee.salaries s ON e.emp_no = s.emp_no\n",
    "WHERE e.emp_no = 12557\n",
    "\"\"\"\n",
    "tables = pd.read_sql(query1,connection)\n",
    "tables"
   ]
  },
  {
   "cell_type": "code",
   "execution_count": 29,
   "metadata": {},
   "outputs": [],
   "source": [
    "# 2.Encontrar el último departamento en el que trabajó el empleado con la siguiente información del mismo: \n",
    "# nombre, apellido, número de empleado, fecha de nacimiento, código de departamento, nombre del departamento, \n",
    "# fecha cuando inició su trabajo en ese departamento y la fecha cuando concluyó su trabajo"
   ]
  },
  {
   "cell_type": "code",
   "execution_count": 30,
   "metadata": {},
   "outputs": [
    {
     "data": {
      "text/html": [
       "<div>\n",
       "<style scoped>\n",
       "    .dataframe tbody tr th:only-of-type {\n",
       "        vertical-align: middle;\n",
       "    }\n",
       "\n",
       "    .dataframe tbody tr th {\n",
       "        vertical-align: top;\n",
       "    }\n",
       "\n",
       "    .dataframe thead th {\n",
       "        text-align: right;\n",
       "    }\n",
       "</style>\n",
       "<table border=\"1\" class=\"dataframe\">\n",
       "  <thead>\n",
       "    <tr style=\"text-align: right;\">\n",
       "      <th></th>\n",
       "      <th>first_name</th>\n",
       "      <th>last_name</th>\n",
       "      <th>birth_date</th>\n",
       "      <th>emp_no</th>\n",
       "      <th>title</th>\n",
       "      <th>from_date</th>\n",
       "      <th>to_date</th>\n",
       "    </tr>\n",
       "  </thead>\n",
       "  <tbody>\n",
       "    <tr>\n",
       "      <th>0</th>\n",
       "      <td>Stafford</td>\n",
       "      <td>Kopetz</td>\n",
       "      <td>1954-01-01</td>\n",
       "      <td>12557</td>\n",
       "      <td>Senior Engineer</td>\n",
       "      <td>2002-03-17</td>\n",
       "      <td>9999-01-01</td>\n",
       "    </tr>\n",
       "  </tbody>\n",
       "</table>\n",
       "</div>"
      ],
      "text/plain": [
       "  first_name last_name  birth_date  emp_no            title   from_date  \\\n",
       "0   Stafford    Kopetz  1954-01-01   12557  Senior Engineer  2002-03-17   \n",
       "\n",
       "      to_date  \n",
       "0  9999-01-01  "
      ]
     },
     "execution_count": 30,
     "metadata": {},
     "output_type": "execute_result"
    }
   ],
   "source": [
    "query2 = \"\"\"\n",
    "SELECT e.first_name, e.last_name, birth_date, e.emp_no, t.title, s.from_date, s.to_date\n",
    "FROM employee.employees e\n",
    "LEFT JOIN employee.titles t ON e.emp_no = t.emp_no\n",
    "LEFT JOIN employee.salaries s ON e.emp_no = s.emp_no\n",
    "WHERE e.emp_no = 12557\n",
    "ORDER BY s.from_date DESC limit 1;\n",
    "\"\"\"\n",
    "tables = pd.read_sql(query2,connection)\n",
    "tables"
   ]
  },
  {
   "cell_type": "code",
   "execution_count": 31,
   "metadata": {},
   "outputs": [],
   "source": [
    "# 3.Encontrar el salario máximo de cada empleado utilizando la función Partition By con toda la información del empleado\n",
    "# y de su salario"
   ]
  },
  {
   "cell_type": "code",
   "execution_count": 32,
   "metadata": {},
   "outputs": [
    {
     "data": {
      "text/html": [
       "<div>\n",
       "<style scoped>\n",
       "    .dataframe tbody tr th:only-of-type {\n",
       "        vertical-align: middle;\n",
       "    }\n",
       "\n",
       "    .dataframe tbody tr th {\n",
       "        vertical-align: top;\n",
       "    }\n",
       "\n",
       "    .dataframe thead th {\n",
       "        text-align: right;\n",
       "    }\n",
       "</style>\n",
       "<table border=\"1\" class=\"dataframe\">\n",
       "  <thead>\n",
       "    <tr style=\"text-align: right;\">\n",
       "      <th></th>\n",
       "      <th>emp_no</th>\n",
       "      <th>birth_date</th>\n",
       "      <th>first_name</th>\n",
       "      <th>last_name</th>\n",
       "      <th>gender</th>\n",
       "      <th>salary</th>\n",
       "      <th>seq</th>\n",
       "    </tr>\n",
       "  </thead>\n",
       "  <tbody>\n",
       "    <tr>\n",
       "      <th>0</th>\n",
       "      <td>10001</td>\n",
       "      <td>1953-09-02</td>\n",
       "      <td>Georgi</td>\n",
       "      <td>Facello</td>\n",
       "      <td>M</td>\n",
       "      <td>88958</td>\n",
       "      <td>1</td>\n",
       "    </tr>\n",
       "    <tr>\n",
       "      <th>1</th>\n",
       "      <td>10002</td>\n",
       "      <td>1964-06-02</td>\n",
       "      <td>Bezalel</td>\n",
       "      <td>Simmel</td>\n",
       "      <td>F</td>\n",
       "      <td>72527</td>\n",
       "      <td>1</td>\n",
       "    </tr>\n",
       "    <tr>\n",
       "      <th>2</th>\n",
       "      <td>10003</td>\n",
       "      <td>1959-12-03</td>\n",
       "      <td>Parto</td>\n",
       "      <td>Bamford</td>\n",
       "      <td>M</td>\n",
       "      <td>43699</td>\n",
       "      <td>1</td>\n",
       "    </tr>\n",
       "    <tr>\n",
       "      <th>3</th>\n",
       "      <td>10004</td>\n",
       "      <td>1954-05-01</td>\n",
       "      <td>Chirstian</td>\n",
       "      <td>Koblick</td>\n",
       "      <td>M</td>\n",
       "      <td>74057</td>\n",
       "      <td>1</td>\n",
       "    </tr>\n",
       "    <tr>\n",
       "      <th>4</th>\n",
       "      <td>10005</td>\n",
       "      <td>1955-01-21</td>\n",
       "      <td>Kyoichi</td>\n",
       "      <td>Maliniak</td>\n",
       "      <td>M</td>\n",
       "      <td>94692</td>\n",
       "      <td>1</td>\n",
       "    </tr>\n",
       "    <tr>\n",
       "      <th>...</th>\n",
       "      <td>...</td>\n",
       "      <td>...</td>\n",
       "      <td>...</td>\n",
       "      <td>...</td>\n",
       "      <td>...</td>\n",
       "      <td>...</td>\n",
       "      <td>...</td>\n",
       "    </tr>\n",
       "    <tr>\n",
       "      <th>95</th>\n",
       "      <td>10096</td>\n",
       "      <td>1954-09-16</td>\n",
       "      <td>Jayson</td>\n",
       "      <td>Mandell</td>\n",
       "      <td>M</td>\n",
       "      <td>68612</td>\n",
       "      <td>1</td>\n",
       "    </tr>\n",
       "    <tr>\n",
       "      <th>96</th>\n",
       "      <td>10097</td>\n",
       "      <td>1952-02-27</td>\n",
       "      <td>Remzi</td>\n",
       "      <td>Waschkowski</td>\n",
       "      <td>M</td>\n",
       "      <td>70161</td>\n",
       "      <td>1</td>\n",
       "    </tr>\n",
       "    <tr>\n",
       "      <th>97</th>\n",
       "      <td>10098</td>\n",
       "      <td>1961-09-23</td>\n",
       "      <td>Sreekrishna</td>\n",
       "      <td>Servieres</td>\n",
       "      <td>F</td>\n",
       "      <td>56202</td>\n",
       "      <td>1</td>\n",
       "    </tr>\n",
       "    <tr>\n",
       "      <th>98</th>\n",
       "      <td>10099</td>\n",
       "      <td>1956-05-25</td>\n",
       "      <td>Valter</td>\n",
       "      <td>Sullins</td>\n",
       "      <td>F</td>\n",
       "      <td>98538</td>\n",
       "      <td>1</td>\n",
       "    </tr>\n",
       "    <tr>\n",
       "      <th>99</th>\n",
       "      <td>10100</td>\n",
       "      <td>1953-04-21</td>\n",
       "      <td>Hironobu</td>\n",
       "      <td>Haraldson</td>\n",
       "      <td>F</td>\n",
       "      <td>74957</td>\n",
       "      <td>1</td>\n",
       "    </tr>\n",
       "  </tbody>\n",
       "</table>\n",
       "<p>100 rows × 7 columns</p>\n",
       "</div>"
      ],
      "text/plain": [
       "    emp_no  birth_date   first_name    last_name gender  salary  seq\n",
       "0    10001  1953-09-02       Georgi      Facello      M   88958    1\n",
       "1    10002  1964-06-02      Bezalel       Simmel      F   72527    1\n",
       "2    10003  1959-12-03        Parto      Bamford      M   43699    1\n",
       "3    10004  1954-05-01    Chirstian      Koblick      M   74057    1\n",
       "4    10005  1955-01-21      Kyoichi     Maliniak      M   94692    1\n",
       "..     ...         ...          ...          ...    ...     ...  ...\n",
       "95   10096  1954-09-16       Jayson      Mandell      M   68612    1\n",
       "96   10097  1952-02-27        Remzi  Waschkowski      M   70161    1\n",
       "97   10098  1961-09-23  Sreekrishna    Servieres      F   56202    1\n",
       "98   10099  1956-05-25       Valter      Sullins      F   98538    1\n",
       "99   10100  1953-04-21     Hironobu    Haraldson      F   74957    1\n",
       "\n",
       "[100 rows x 7 columns]"
      ]
     },
     "execution_count": 32,
     "metadata": {},
     "output_type": "execute_result"
    }
   ],
   "source": [
    "query3 = \"\"\"\n",
    "SELECT *\n",
    "FROM (\n",
    "    SELECT e.emp_no, e.birth_date, e.first_name, e.last_name, e.gender, s.salary\n",
    "    , ROW_NUMBER() OVER (PARTITION BY e.emp_no ORDER BY s.salary DESC) AS seq\n",
    "    FROM employee.employees e\n",
    "    LEFT JOIN employee.salaries s ON s.emp_no = e.emp_no\n",
    "    GROUP BY 1,2,3,4,5,6\n",
    "    ) A\n",
    "WHERE seq = 1\n",
    "LIMIT 100\n",
    "\"\"\"\n",
    "tables = pd.read_sql(query3,connection)\n",
    "tables"
   ]
  },
  {
   "cell_type": "markdown",
   "metadata": {},
   "source": [
    "### Parte 2: Asesinato:"
   ]
  },
  {
   "cell_type": "code",
   "execution_count": 37,
   "metadata": {},
   "outputs": [],
   "source": [
    "import sqlite3\n",
    "con = sqlite3.connect('sql-murder-mystery.db')\n",
    "cursor = con.cursor()"
   ]
  },
  {
   "cell_type": "code",
   "execution_count": 46,
   "metadata": {},
   "outputs": [
    {
     "name": "stdout",
     "output_type": "stream",
     "text": [
      "[('crime_scene_report',), ('drivers_license',), ('person',), ('facebook_event_checkin',), ('interview',), ('get_fit_now_member',), ('get_fit_now_check_in',), ('income',), ('solution',)]\n"
     ]
    }
   ],
   "source": [
    "#Nombres de las columnas e info de nombre 1\n",
    "cursor.execute(\"SELECT name FROM sqlite_master WHERE type='table';\")\n",
    "print(cursor.fetchall())"
   ]
  },
  {
   "cell_type": "code",
   "execution_count": 48,
   "metadata": {},
   "outputs": [
    {
     "data": {
      "text/plain": [
       "'Security footage shows that there were 2 witnesses. The first witness lives at the last house on \"Northwestern Dr\". The second witness, named Annabel, lives somewhere on \"Franklin Ave\".'"
      ]
     },
     "execution_count": 48,
     "metadata": {},
     "output_type": "execute_result"
    }
   ],
   "source": [
    "#Testimonial\n",
    "queryInfo = \"\"\"\n",
    "SELECT description\n",
    "FROM crime_scene_report\n",
    "WHERE lower(city) = 'sql city'\n",
    "AND date = 20180115\n",
    "AND lower(type) = 'murder';\n",
    "\"\"\"\n",
    "table = pd.read_sql(queryInfo, con)\n",
    "table[\"description\"][0]"
   ]
  },
  {
   "cell_type": "code",
   "execution_count": 51,
   "metadata": {},
   "outputs": [
    {
     "data": {
      "text/html": [
       "<div>\n",
       "<style scoped>\n",
       "    .dataframe tbody tr th:only-of-type {\n",
       "        vertical-align: middle;\n",
       "    }\n",
       "\n",
       "    .dataframe tbody tr th {\n",
       "        vertical-align: top;\n",
       "    }\n",
       "\n",
       "    .dataframe thead th {\n",
       "        text-align: right;\n",
       "    }\n",
       "</style>\n",
       "<table border=\"1\" class=\"dataframe\">\n",
       "  <thead>\n",
       "    <tr style=\"text-align: right;\">\n",
       "      <th></th>\n",
       "      <th>id</th>\n",
       "      <th>name</th>\n",
       "      <th>license_id</th>\n",
       "      <th>address_number</th>\n",
       "      <th>address_street_name</th>\n",
       "      <th>ssn</th>\n",
       "    </tr>\n",
       "  </thead>\n",
       "  <tbody>\n",
       "    <tr>\n",
       "      <th>0</th>\n",
       "      <td>14887</td>\n",
       "      <td>Morty Schapiro</td>\n",
       "      <td>118009</td>\n",
       "      <td>4919</td>\n",
       "      <td>Northwestern Dr</td>\n",
       "      <td>111564949</td>\n",
       "    </tr>\n",
       "  </tbody>\n",
       "</table>\n",
       "</div>"
      ],
      "text/plain": [
       "      id            name  license_id  address_number address_street_name  \\\n",
       "0  14887  Morty Schapiro      118009            4919     Northwestern Dr   \n",
       "\n",
       "         ssn  \n",
       "0  111564949  "
      ]
     },
     "execution_count": 51,
     "metadata": {},
     "output_type": "execute_result"
    }
   ],
   "source": [
    "#Testigo 1\n",
    "queryW1 = \"\"\"\n",
    "SELECT *\n",
    "FROM person\n",
    "WHERE lower(address_street_name) = 'northwestern dr'\n",
    "AND address_number = (SELECT MAX(address_number)\n",
    "    FROM person \n",
    "    WHERE lower(address_street_name) = 'northwestern dr');\n",
    "\"\"\"\n",
    "pd.read_sql(queryW1 , con)"
   ]
  },
  {
   "cell_type": "code",
   "execution_count": 52,
   "metadata": {},
   "outputs": [
    {
     "data": {
      "text/html": [
       "<div>\n",
       "<style scoped>\n",
       "    .dataframe tbody tr th:only-of-type {\n",
       "        vertical-align: middle;\n",
       "    }\n",
       "\n",
       "    .dataframe tbody tr th {\n",
       "        vertical-align: top;\n",
       "    }\n",
       "\n",
       "    .dataframe thead th {\n",
       "        text-align: right;\n",
       "    }\n",
       "</style>\n",
       "<table border=\"1\" class=\"dataframe\">\n",
       "  <thead>\n",
       "    <tr style=\"text-align: right;\">\n",
       "      <th></th>\n",
       "      <th>id</th>\n",
       "      <th>name</th>\n",
       "      <th>license_id</th>\n",
       "      <th>address_number</th>\n",
       "      <th>address_street_name</th>\n",
       "      <th>ssn</th>\n",
       "    </tr>\n",
       "  </thead>\n",
       "  <tbody>\n",
       "    <tr>\n",
       "      <th>0</th>\n",
       "      <td>16371</td>\n",
       "      <td>Annabel Miller</td>\n",
       "      <td>490173</td>\n",
       "      <td>103</td>\n",
       "      <td>Franklin Ave</td>\n",
       "      <td>318771143</td>\n",
       "    </tr>\n",
       "  </tbody>\n",
       "</table>\n",
       "</div>"
      ],
      "text/plain": [
       "      id            name  license_id  address_number address_street_name  \\\n",
       "0  16371  Annabel Miller      490173             103        Franklin Ave   \n",
       "\n",
       "         ssn  \n",
       "0  318771143  "
      ]
     },
     "execution_count": 52,
     "metadata": {},
     "output_type": "execute_result"
    }
   ],
   "source": [
    "#Testigo 2\n",
    "queryW2 = \"\"\"\n",
    "SELECT *\n",
    "FROM person\n",
    "WHERE lower(name) like 'annabel%'\n",
    "AND lower(address_street_name) = 'franklin ave';\n",
    "\"\"\"\n",
    "pd.read_sql(queryW2, con)"
   ]
  },
  {
   "cell_type": "code",
   "execution_count": 53,
   "metadata": {},
   "outputs": [
    {
     "data": {
      "text/plain": [
       "'I saw the murder happen, and I recognized the killer from my gym when I was working out last week on January the 9th.'"
      ]
     },
     "execution_count": 53,
     "metadata": {},
     "output_type": "execute_result"
    }
   ],
   "source": [
    "#Testimonial testigo 2\n",
    "queryT1 = \"\"\"\n",
    "SELECT *\n",
    "FROM interview\n",
    "WHERE person_id = (SELECT id\n",
    "    FROM person\n",
    "    WHERE lower(name) = 'annabel miller');\n",
    "\"\"\"\n",
    "pd.read_sql(queryT1, con)\n",
    "table = pd.read_sql(queryT1, con)\n",
    "table[\"transcript\"][0]"
   ]
  },
  {
   "cell_type": "code",
   "execution_count": 55,
   "metadata": {},
   "outputs": [
    {
     "data": {
      "text/plain": [
       "'I heard a gunshot and then saw a man run out. He had a \"Get Fit Now Gym\" bag. The membership number on the bag started with \"48Z\". Only gold members have those bags. The man got into a car with a plate that included \"H42W\".'"
      ]
     },
     "execution_count": 55,
     "metadata": {},
     "output_type": "execute_result"
    }
   ],
   "source": [
    "#Testimonial testigo 2\n",
    "queryT2 = \"\"\"\n",
    "SELECT *\n",
    "FROM interview\n",
    "WHERE person_id = (SELECT id\n",
    "    FROM person\n",
    "    WHERE lower(name) = 'morty schapiro');\n",
    "\"\"\"\n",
    "table = pd.read_sql(queryT2, con)\n",
    "table[\"transcript\"][0]"
   ]
  },
  {
   "cell_type": "code",
   "execution_count": 58,
   "metadata": {},
   "outputs": [
    {
     "data": {
      "text/html": [
       "<div>\n",
       "<style scoped>\n",
       "    .dataframe tbody tr th:only-of-type {\n",
       "        vertical-align: middle;\n",
       "    }\n",
       "\n",
       "    .dataframe tbody tr th {\n",
       "        vertical-align: top;\n",
       "    }\n",
       "\n",
       "    .dataframe thead th {\n",
       "        text-align: right;\n",
       "    }\n",
       "</style>\n",
       "<table border=\"1\" class=\"dataframe\">\n",
       "  <thead>\n",
       "    <tr style=\"text-align: right;\">\n",
       "      <th></th>\n",
       "      <th>id</th>\n",
       "      <th>person_id</th>\n",
       "      <th>name</th>\n",
       "      <th>membership_start_date</th>\n",
       "      <th>membership_status</th>\n",
       "    </tr>\n",
       "  </thead>\n",
       "  <tbody>\n",
       "    <tr>\n",
       "      <th>0</th>\n",
       "      <td>48Z7A</td>\n",
       "      <td>28819</td>\n",
       "      <td>Joe Germuska</td>\n",
       "      <td>20160305</td>\n",
       "      <td>gold</td>\n",
       "    </tr>\n",
       "    <tr>\n",
       "      <th>1</th>\n",
       "      <td>48Z55</td>\n",
       "      <td>67318</td>\n",
       "      <td>Jeremy Bowers</td>\n",
       "      <td>20160101</td>\n",
       "      <td>gold</td>\n",
       "    </tr>\n",
       "  </tbody>\n",
       "</table>\n",
       "</div>"
      ],
      "text/plain": [
       "      id  person_id           name  membership_start_date membership_status\n",
       "0  48Z7A      28819   Joe Germuska               20160305              gold\n",
       "1  48Z55      67318  Jeremy Bowers               20160101              gold"
      ]
     },
     "execution_count": 58,
     "metadata": {},
     "output_type": "execute_result"
    }
   ],
   "source": [
    "#Info del Gym PT1\n",
    "queryG1 = \"\"\"\n",
    "SELECT *\n",
    "FROM get_fit_now_member\n",
    "WHERE lower(membership_status) = 'gold'\n",
    "AND upper(id) like '48Z%';\n",
    "\"\"\"\n",
    "pd.read_sql(queryG1, con)"
   ]
  },
  {
   "cell_type": "code",
   "execution_count": 59,
   "metadata": {},
   "outputs": [
    {
     "data": {
      "text/html": [
       "<div>\n",
       "<style scoped>\n",
       "    .dataframe tbody tr th:only-of-type {\n",
       "        vertical-align: middle;\n",
       "    }\n",
       "\n",
       "    .dataframe tbody tr th {\n",
       "        vertical-align: top;\n",
       "    }\n",
       "\n",
       "    .dataframe thead th {\n",
       "        text-align: right;\n",
       "    }\n",
       "</style>\n",
       "<table border=\"1\" class=\"dataframe\">\n",
       "  <thead>\n",
       "    <tr style=\"text-align: right;\">\n",
       "      <th></th>\n",
       "      <th>membership_id</th>\n",
       "      <th>check_in_date</th>\n",
       "      <th>check_in_time</th>\n",
       "      <th>check_out_time</th>\n",
       "    </tr>\n",
       "  </thead>\n",
       "  <tbody>\n",
       "    <tr>\n",
       "      <th>0</th>\n",
       "      <td>48Z7A</td>\n",
       "      <td>20180109</td>\n",
       "      <td>1600</td>\n",
       "      <td>1730</td>\n",
       "    </tr>\n",
       "    <tr>\n",
       "      <th>1</th>\n",
       "      <td>48Z55</td>\n",
       "      <td>20180109</td>\n",
       "      <td>1530</td>\n",
       "      <td>1700</td>\n",
       "    </tr>\n",
       "  </tbody>\n",
       "</table>\n",
       "</div>"
      ],
      "text/plain": [
       "  membership_id  check_in_date  check_in_time  check_out_time\n",
       "0         48Z7A       20180109           1600            1730\n",
       "1         48Z55       20180109           1530            1700"
      ]
     },
     "execution_count": 59,
     "metadata": {},
     "output_type": "execute_result"
    }
   ],
   "source": [
    "#Info del Gym PT2\n",
    "queryG2 = \"\"\"\n",
    "SELECT *\n",
    "FROM get_fit_now_check_in\n",
    "WHERE check_in_date = 20180109\n",
    "AND upper(membership_id) like '48Z%';\n",
    "\"\"\"\n",
    "pd.read_sql(queryG2, con)"
   ]
  },
  {
   "cell_type": "code",
   "execution_count": 60,
   "metadata": {},
   "outputs": [
    {
     "data": {
      "text/html": [
       "<div>\n",
       "<style scoped>\n",
       "    .dataframe tbody tr th:only-of-type {\n",
       "        vertical-align: middle;\n",
       "    }\n",
       "\n",
       "    .dataframe tbody tr th {\n",
       "        vertical-align: top;\n",
       "    }\n",
       "\n",
       "    .dataframe thead th {\n",
       "        text-align: right;\n",
       "    }\n",
       "</style>\n",
       "<table border=\"1\" class=\"dataframe\">\n",
       "  <thead>\n",
       "    <tr style=\"text-align: right;\">\n",
       "      <th></th>\n",
       "      <th>id</th>\n",
       "      <th>age</th>\n",
       "      <th>height</th>\n",
       "      <th>eye_color</th>\n",
       "      <th>hair_color</th>\n",
       "      <th>gender</th>\n",
       "      <th>plate_number</th>\n",
       "      <th>car_make</th>\n",
       "      <th>car_model</th>\n",
       "    </tr>\n",
       "  </thead>\n",
       "  <tbody>\n",
       "    <tr>\n",
       "      <th>0</th>\n",
       "      <td>183779</td>\n",
       "      <td>21</td>\n",
       "      <td>65</td>\n",
       "      <td>blue</td>\n",
       "      <td>blonde</td>\n",
       "      <td>female</td>\n",
       "      <td>H42W0X</td>\n",
       "      <td>Toyota</td>\n",
       "      <td>Prius</td>\n",
       "    </tr>\n",
       "    <tr>\n",
       "      <th>1</th>\n",
       "      <td>423327</td>\n",
       "      <td>30</td>\n",
       "      <td>70</td>\n",
       "      <td>brown</td>\n",
       "      <td>brown</td>\n",
       "      <td>male</td>\n",
       "      <td>0H42W2</td>\n",
       "      <td>Chevrolet</td>\n",
       "      <td>Spark LS</td>\n",
       "    </tr>\n",
       "    <tr>\n",
       "      <th>2</th>\n",
       "      <td>664760</td>\n",
       "      <td>21</td>\n",
       "      <td>71</td>\n",
       "      <td>black</td>\n",
       "      <td>black</td>\n",
       "      <td>male</td>\n",
       "      <td>4H42WR</td>\n",
       "      <td>Nissan</td>\n",
       "      <td>Altima</td>\n",
       "    </tr>\n",
       "  </tbody>\n",
       "</table>\n",
       "</div>"
      ],
      "text/plain": [
       "       id  age  height eye_color hair_color  gender plate_number   car_make  \\\n",
       "0  183779   21      65      blue     blonde  female       H42W0X     Toyota   \n",
       "1  423327   30      70     brown      brown    male       0H42W2  Chevrolet   \n",
       "2  664760   21      71     black      black    male       4H42WR     Nissan   \n",
       "\n",
       "  car_model  \n",
       "0     Prius  \n",
       "1  Spark LS  \n",
       "2    Altima  "
      ]
     },
     "execution_count": 60,
     "metadata": {},
     "output_type": "execute_result"
    }
   ],
   "source": [
    "#Info del carro\n",
    "queryCar = \"\"\"\n",
    "SELECT *\n",
    "FROM drivers_license\n",
    "WHERE upper(plate_number) like '%H42W%' ;\n",
    "\"\"\"\n",
    "pd.read_sql(queryCar, con)"
   ]
  },
  {
   "cell_type": "code",
   "execution_count": 61,
   "metadata": {},
   "outputs": [
    {
     "data": {
      "text/html": [
       "<div>\n",
       "<style scoped>\n",
       "    .dataframe tbody tr th:only-of-type {\n",
       "        vertical-align: middle;\n",
       "    }\n",
       "\n",
       "    .dataframe tbody tr th {\n",
       "        vertical-align: top;\n",
       "    }\n",
       "\n",
       "    .dataframe thead th {\n",
       "        text-align: right;\n",
       "    }\n",
       "</style>\n",
       "<table border=\"1\" class=\"dataframe\">\n",
       "  <thead>\n",
       "    <tr style=\"text-align: right;\">\n",
       "      <th></th>\n",
       "      <th>id</th>\n",
       "      <th>name</th>\n",
       "      <th>license_id</th>\n",
       "      <th>address_number</th>\n",
       "      <th>address_street_name</th>\n",
       "      <th>ssn</th>\n",
       "    </tr>\n",
       "  </thead>\n",
       "  <tbody>\n",
       "    <tr>\n",
       "      <th>0</th>\n",
       "      <td>28819</td>\n",
       "      <td>Joe Germuska</td>\n",
       "      <td>173289</td>\n",
       "      <td>111</td>\n",
       "      <td>Fisk Rd</td>\n",
       "      <td>138909730</td>\n",
       "    </tr>\n",
       "    <tr>\n",
       "      <th>1</th>\n",
       "      <td>67318</td>\n",
       "      <td>Jeremy Bowers</td>\n",
       "      <td>423327</td>\n",
       "      <td>530</td>\n",
       "      <td>Washington Pl, Apt 3A</td>\n",
       "      <td>871539279</td>\n",
       "    </tr>\n",
       "  </tbody>\n",
       "</table>\n",
       "</div>"
      ],
      "text/plain": [
       "      id           name  license_id  address_number    address_street_name  \\\n",
       "0  28819   Joe Germuska      173289             111                Fisk Rd   \n",
       "1  67318  Jeremy Bowers      423327             530  Washington Pl, Apt 3A   \n",
       "\n",
       "         ssn  \n",
       "0  138909730  \n",
       "1  871539279  "
      ]
     },
     "execution_count": 61,
     "metadata": {},
     "output_type": "execute_result"
    }
   ],
   "source": [
    "#Teorias\n",
    "queryPos = \"\"\"\n",
    "SELECT *\n",
    "FROM person\n",
    "WHERE id in (SELECT person_id\n",
    "    FROM get_fit_now_member\n",
    "    WHERE lower(membership_status) = 'gold'\n",
    "    AND lower(id) like '48z%');\n",
    "\"\"\"\n",
    "pd.read_sql(queryPos, con)"
   ]
  },
  {
   "cell_type": "code",
   "execution_count": 69,
   "metadata": {},
   "outputs": [
    {
     "data": {
      "text/html": [
       "<div>\n",
       "<style scoped>\n",
       "    .dataframe tbody tr th:only-of-type {\n",
       "        vertical-align: middle;\n",
       "    }\n",
       "\n",
       "    .dataframe tbody tr th {\n",
       "        vertical-align: top;\n",
       "    }\n",
       "\n",
       "    .dataframe thead th {\n",
       "        text-align: right;\n",
       "    }\n",
       "</style>\n",
       "<table border=\"1\" class=\"dataframe\">\n",
       "  <thead>\n",
       "    <tr style=\"text-align: right;\">\n",
       "      <th></th>\n",
       "      <th>id</th>\n",
       "      <th>age</th>\n",
       "      <th>height</th>\n",
       "      <th>eye_color</th>\n",
       "      <th>hair_color</th>\n",
       "      <th>gender</th>\n",
       "      <th>plate_number</th>\n",
       "      <th>car_make</th>\n",
       "      <th>car_model</th>\n",
       "      <th>id</th>\n",
       "      <th>name</th>\n",
       "    </tr>\n",
       "  </thead>\n",
       "  <tbody>\n",
       "    <tr>\n",
       "      <th>0</th>\n",
       "      <td>423327</td>\n",
       "      <td>30</td>\n",
       "      <td>70</td>\n",
       "      <td>brown</td>\n",
       "      <td>brown</td>\n",
       "      <td>male</td>\n",
       "      <td>0H42W2</td>\n",
       "      <td>Chevrolet</td>\n",
       "      <td>Spark LS</td>\n",
       "      <td>67318</td>\n",
       "      <td>Jeremy Bowers</td>\n",
       "    </tr>\n",
       "  </tbody>\n",
       "</table>\n",
       "</div>"
      ],
      "text/plain": [
       "       id  age  height eye_color hair_color gender plate_number   car_make  \\\n",
       "0  423327   30      70     brown      brown   male       0H42W2  Chevrolet   \n",
       "\n",
       "  car_model     id           name  \n",
       "0  Spark LS  67318  Jeremy Bowers  "
      ]
     },
     "execution_count": 69,
     "metadata": {},
     "output_type": "execute_result"
    }
   ],
   "source": [
    "#Probable asesino\n",
    "queryA = \"\"\"\n",
    "SELECT d.*, p.id, p.name\n",
    "FROM drivers_license d\n",
    "JOIN person p on p.license_id = d.id\n",
    "WHERE d.id in (SELECT license_id\n",
    "    FROM person\n",
    "    WHERE id in (SELECT person_id\n",
    "        FROM get_fit_now_member\n",
    "        WHERE lower(membership_status) = 'gold'\n",
    "        AND upper(id) like '48Z%'));\n",
    "\"\"\"\n",
    "pd.read_sql(queryA, con)"
   ]
  },
  {
   "cell_type": "code",
   "execution_count": 68,
   "metadata": {},
   "outputs": [],
   "source": [
    "#El asesino es Jeremy Bowers"
   ]
  },
  {
   "cell_type": "code",
   "execution_count": 63,
   "metadata": {},
   "outputs": [
    {
     "data": {
      "text/plain": [
       "\"Congrats, you found the murderer! But wait, there's more... If you think you're up for a challenge, try querying the interview transcript of the murderer to find the real villian behind this crime. If you feel especially confident in your SQL skills, try to complete this final step with no more than 2 queries. Use this same INSERT statement with your new suspect to check your answer.\""
      ]
     },
     "execution_count": 63,
     "metadata": {},
     "output_type": "execute_result"
    }
   ],
   "source": [
    "#Verificacion acertada\n",
    "sql = \"INSERT INTO solution VALUES (1, 'Jeremy Bowers')\"\n",
    "cursor.execute(sql)\n",
    "con.commit()\n",
    "var = pd.read_sql(\"SELECT value FROM solution\", con)\n",
    "var.iloc[0,0]"
   ]
  },
  {
   "cell_type": "code",
   "execution_count": 70,
   "metadata": {},
   "outputs": [
    {
     "data": {
      "text/plain": [
       "'I was hired by a woman with a lot of money. I don\\'t know her name but I know she\\'s around 5\\'5\" (65\") or 5\\'7\" (67\"). She has red hair and she drives a Tesla Model S. I know that she attended the SQL Symphony Concert 3 times in December 2017.\\n'"
      ]
     },
     "execution_count": 70,
     "metadata": {},
     "output_type": "execute_result"
    }
   ],
   "source": [
    "#Transcripcion asesino\n",
    "queryTa = \"\"\"\n",
    "SELECT *\n",
    "FROM interview\n",
    "WHERE person_id = (SELECT id\n",
    "    FROM person\n",
    "    WHERE lower(name) = 'jeremy bowers');\n",
    "\"\"\"\n",
    "table = pd.read_sql(queryTa, con)\n",
    "table[\"transcript\"][0]"
   ]
  },
  {
   "cell_type": "code",
   "execution_count": 71,
   "metadata": {},
   "outputs": [
    {
     "data": {
      "text/html": [
       "<div>\n",
       "<style scoped>\n",
       "    .dataframe tbody tr th:only-of-type {\n",
       "        vertical-align: middle;\n",
       "    }\n",
       "\n",
       "    .dataframe tbody tr th {\n",
       "        vertical-align: top;\n",
       "    }\n",
       "\n",
       "    .dataframe thead th {\n",
       "        text-align: right;\n",
       "    }\n",
       "</style>\n",
       "<table border=\"1\" class=\"dataframe\">\n",
       "  <thead>\n",
       "    <tr style=\"text-align: right;\">\n",
       "      <th></th>\n",
       "      <th>id</th>\n",
       "      <th>name</th>\n",
       "      <th>license_id</th>\n",
       "      <th>address_number</th>\n",
       "      <th>address_street_name</th>\n",
       "      <th>ssn</th>\n",
       "    </tr>\n",
       "  </thead>\n",
       "  <tbody>\n",
       "    <tr>\n",
       "      <th>0</th>\n",
       "      <td>99716</td>\n",
       "      <td>Miranda Priestly</td>\n",
       "      <td>202298</td>\n",
       "      <td>1883</td>\n",
       "      <td>Golden Ave</td>\n",
       "      <td>987756388</td>\n",
       "    </tr>\n",
       "  </tbody>\n",
       "</table>\n",
       "</div>"
      ],
      "text/plain": [
       "      id              name  license_id  address_number address_street_name  \\\n",
       "0  99716  Miranda Priestly      202298            1883          Golden Ave   \n",
       "\n",
       "         ssn  \n",
       "0  987756388  "
      ]
     },
     "execution_count": 71,
     "metadata": {},
     "output_type": "execute_result"
    }
   ],
   "source": [
    "#Buscando autora intelectual\n",
    "queryAut = \"\"\"\n",
    "SELECT * \n",
    "FROM person\n",
    "WHERE id = (SELECT distinct(person_id) \n",
    "    FROM facebook_event_checkin\n",
    "    WHERE date like '201712%'\n",
    "    AND lower(event_name) = 'sql symphony concert'\n",
    "    AND person_id in (SELECT id\n",
    "        FROM person\n",
    "        WHERE license_id in (SELECT id\n",
    "            FROM drivers_license\n",
    "            WHERE lower(car_model) = 'model s'\n",
    "            AND height between 65 and 67\n",
    "            AND lower(gender) = 'female')));\n",
    "\"\"\"\n",
    "pd.read_sql(queryAut, con)"
   ]
  },
  {
   "cell_type": "code",
   "execution_count": null,
   "metadata": {},
   "outputs": [],
   "source": [
    "#La autora intelectual es Miranda Priestly"
   ]
  },
  {
   "cell_type": "code",
   "execution_count": 72,
   "metadata": {},
   "outputs": [
    {
     "data": {
      "text/plain": [
       "'Congrats, you found the brains behind the murder! Everyone in SQL City hails you as the greatest SQL detective of all time. Time to break out the champagne!'"
      ]
     },
     "execution_count": 72,
     "metadata": {},
     "output_type": "execute_result"
    }
   ],
   "source": [
    "#Verificacion 2 acertada\n",
    "sql = \"INSERT INTO solution VALUES (1, 'Miranda Priestly')\"\n",
    "cursor.execute(sql)\n",
    "con.commit()\n",
    "var = pd.read_sql(\"SELECT value FROM solution\", con)\n",
    "var.iloc[0,0]"
   ]
  }
 ],
 "metadata": {
  "kernelspec": {
   "display_name": "Python 3 (ipykernel)",
   "language": "python",
   "name": "python3"
  },
  "language_info": {
   "codemirror_mode": {
    "name": "ipython",
    "version": 3
   },
   "file_extension": ".py",
   "mimetype": "text/x-python",
   "name": "python",
   "nbconvert_exporter": "python",
   "pygments_lexer": "ipython3",
   "version": "3.7.13"
  }
 },
 "nbformat": 4,
 "nbformat_minor": 2
}
